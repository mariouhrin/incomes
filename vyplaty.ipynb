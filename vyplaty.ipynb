{
 "cells": [
  {
   "cell_type": "markdown",
   "metadata": {
    "collapsed": true
   },
   "source": [
    "# Zadanie:\n",
    "\n",
    "\n",
    "## Zistiť z dát, ktoré platby predstavujú mzdy a nájsť ďalšie hlavné kategórie pre platby "
   ]
  },
  {
   "cell_type": "code",
   "execution_count": 1,
   "metadata": {
    "collapsed": false
   },
   "outputs": [],
   "source": [
    "\n",
    "# Importovanie knižníc\n",
    "\n",
    "import datetime\n",
    "import pandas as pd\n",
    "import numpy as np\n",
    "import warnings\n",
    "warnings.filterwarnings('ignore')\n",
    "\n"
   ]
  },
  {
   "cell_type": "code",
   "execution_count": 2,
   "metadata": {
    "collapsed": false
   },
   "outputs": [],
   "source": [
    "\n",
    "# Načítanie dát a vytvorenie názvov pre jednotlivé stĺpce\n",
    "\n",
    "data = pd.read_table('data_for_applicants.txt', header = None, \n",
    "                     names = ['date', 'client', 'amount', 'sender'])\n"
   ]
  },
  {
   "cell_type": "code",
   "execution_count": 3,
   "metadata": {
    "collapsed": false
   },
   "outputs": [
    {
     "data": {
      "text/html": [
       "<div>\n",
       "<table border=\"1\" class=\"dataframe\">\n",
       "  <thead>\n",
       "    <tr style=\"text-align: right;\">\n",
       "      <th></th>\n",
       "      <th>date</th>\n",
       "      <th>client</th>\n",
       "      <th>amount</th>\n",
       "      <th>sender</th>\n",
       "    </tr>\n",
       "  </thead>\n",
       "  <tbody>\n",
       "    <tr>\n",
       "      <th>0</th>\n",
       "      <td>2014-09-12</td>\n",
       "      <td>651959088</td>\n",
       "      <td>6686</td>\n",
       "      <td>627986531</td>\n",
       "    </tr>\n",
       "    <tr>\n",
       "      <th>1</th>\n",
       "      <td>2014-09-17</td>\n",
       "      <td>725866593</td>\n",
       "      <td>14462</td>\n",
       "      <td>222382928</td>\n",
       "    </tr>\n",
       "    <tr>\n",
       "      <th>2</th>\n",
       "      <td>2014-09-12</td>\n",
       "      <td>313567829</td>\n",
       "      <td>9965</td>\n",
       "      <td>222382928</td>\n",
       "    </tr>\n",
       "    <tr>\n",
       "      <th>3</th>\n",
       "      <td>2014-09-12</td>\n",
       "      <td>855015364</td>\n",
       "      <td>10835</td>\n",
       "      <td>222382928</td>\n",
       "    </tr>\n",
       "    <tr>\n",
       "      <th>4</th>\n",
       "      <td>2014-09-03</td>\n",
       "      <td>414606140</td>\n",
       "      <td>18320</td>\n",
       "      <td>222382928</td>\n",
       "    </tr>\n",
       "  </tbody>\n",
       "</table>\n",
       "</div>"
      ],
      "text/plain": [
       "         date     client  amount     sender\n",
       "0  2014-09-12  651959088    6686  627986531\n",
       "1  2014-09-17  725866593   14462  222382928\n",
       "2  2014-09-12  313567829    9965  222382928\n",
       "3  2014-09-12  855015364   10835  222382928\n",
       "4  2014-09-03  414606140   18320  222382928"
      ]
     },
     "execution_count": 3,
     "metadata": {},
     "output_type": "execute_result"
    }
   ],
   "source": [
    "\n",
    "# pohľad na dáta\n",
    "\n",
    "data.head()\n"
   ]
  },
  {
   "cell_type": "markdown",
   "metadata": {},
   "source": [
    "* **date** --  dátum\n",
    "\n",
    "* **client**  -- id klienta\n",
    "\n",
    "* **amount**  -- výška platby\n",
    "\n",
    "* **sender**  -- id odosielateľa"
   ]
  },
  {
   "cell_type": "markdown",
   "metadata": {},
   "source": [
    "## 1. Krok \n",
    "\n",
    "* Stanovenie minimálnej mzdy. V roku 2014 bola minimálna mzda v ČR 8500 korún\n",
    "\n",
    "* Vyselektovanie platieb vyšších ako min. mzda do premennej **high_income**"
   ]
  },
  {
   "cell_type": "code",
   "execution_count": 4,
   "metadata": {
    "collapsed": false
   },
   "outputs": [],
   "source": [
    "\n",
    "min_mzda = 8500\n",
    "\n",
    "# podmnožina high_income obsahuje všetky platby vyššie ako minimálna mzda + ostatné stĺpce\n",
    "\n",
    "high_income = data[ data['amount'] > min_mzda ]\n"
   ]
  },
  {
   "cell_type": "markdown",
   "metadata": {},
   "source": [
    "## 2. Krok\n",
    "\n",
    "* Konvertovanie dátumov z formátu rok-mesiac-deň na rok-mesiac. Stĺpec **date** bude obsahovať iba 6 kategórii (mesiacov), čo uľahčí hľadanie výplat (výplatu hodnotím ako pravidelnú platbu, ktora bola klientovi pripísaná na účet každý mesiac aspoň od jedného odosielateľa) <br/> <br/>\n",
    "\n",
    "* Pridanie nového stĺpca **join_id** do podmnožiny **high_income**, ktorý bude obsahovať spárované id klienta a id odosieteľa. Vytvorím tak jedninečné id páry medzi klientom a odosielateľom, ktoré mi pomôžu pri selekcii výplat <br/> <br/> \n",
    "\n",
    "* Následné vytvorenie nových premenných (**months, id**) s jedinečnými hodnotami pre mesiace a id páry. Obidve premenné vložím do **for loop** cyklu. Cieľ cyklu je získanie iba takých id párov, ktoré sa nachádzajú v každom mesiaci. Použijem na to funkciu intersection. Výsledné id páry mi pomôžu vyselektovať len takých klientov, ktorí dostávajú platby vyššie ako min. mzda každý mesiac "
   ]
  },
  {
   "cell_type": "code",
   "execution_count": 5,
   "metadata": {
    "collapsed": false
   },
   "outputs": [
    {
     "name": "stdout",
     "output_type": "stream",
     "text": [
      "['814910129838639938', '821357916674455418', '132302670356081381', '893860660559111653', '592384784308204383']\n"
     ]
    }
   ],
   "source": [
    "\n",
    "# formátovanie dátumov\n",
    "\n",
    "date = pd.to_datetime( high_income['date'] )\n",
    "high_income['date'] = date.dt.strftime('%Y-%m')\n",
    "\n",
    "# vytvorenie nového stĺpca ('join_id'), ktorý bude obsahovať id páry medzi klientom a odosielateľom\n",
    "\n",
    "high_income['join_id'] = high_income.client.map(str) + high_income.sender.map(str)\n",
    "\n",
    "# vytvorene premenných, ktoré obsahujú unikátne dátumy a spojené id páry\n",
    "\n",
    "months = set(high_income['date'])\n",
    "id = set(high_income['join_id'])\n",
    "\n",
    "# cyklus, ktorého cieľom je nájsť všetky id páry nachádzajúce sa v každom mesiaci\n",
    "\n",
    "for m in months:\n",
    "    month = high_income[ high_income['date'] == m ]\n",
    "    id = id.intersection(month['join_id']) \n",
    "    \n",
    "    \n",
    "# pohľad na id páry\n",
    "\n",
    "print(list(id)[0:5])\n"
   ]
  },
  {
   "cell_type": "markdown",
   "metadata": {},
   "source": [
    "## 3. Krok\n",
    "\n",
    "* Použitie id párov, ktoré sa nachádzajú v premennej **id** na získanie novej podmnožiny **stable_income**. Nová podmnožina bude obsahovať všetkých klientov, ktorí dostávajú každý mesiac platby minimálne od jedného odosielateľov. Každý odosielateľ platí klientovi každý mesiac minimálne jednu čiastku, ktorá prevyšuje minimálnu mzdu <br/> <br/>\n",
    "\n",
    "* Následne sa vytvorí nová premenná **client_senders**, ktorá obsahuje počty jedinečných odosielateľov pre kažďeho klienta. Táto premenná sa použije na vyselektovanie klientov, ktorí majú len jedného odosielateľa (**one_sender**) alebo viacerých odosielateľov (**multi_sender**)"
   ]
  },
  {
   "cell_type": "code",
   "execution_count": 6,
   "metadata": {
    "collapsed": false
   },
   "outputs": [],
   "source": [
    "\n",
    "# vyselektovanie dát z high_income podľa id párov z premennej 'id', ktorá pochádza z for loop cyklu\n",
    "\n",
    "stable_income = high_income[ high_income['join_id'].isin(id) ]\n",
    "\n",
    "# vytvorenie premennej, ktorá obsahuje počty unikátnych odosielateľov pre každého klienta\n",
    "\n",
    "client_senders = stable_income.groupby('client')['sender'].nunique()\n",
    "\n",
    "# premenná, ktorá obsahuje id klientov len s jedným odosielateľom  \n",
    "\n",
    "one_sender = client_senders[ client_senders == 1 ].index\n",
    "\n",
    "# v premennej multi_sender sa nachádzajú klienti, ktorí dostávajú platby od viacerých odosielateľov každý  mesiac\n",
    "\n",
    "multi_sender = client_senders[ client_senders > 1 ].index\n"
   ]
  },
  {
   "cell_type": "markdown",
   "metadata": {},
   "source": [
    "### Tabuľka početnosti klientov s unikátnymi odosielateľmi "
   ]
  },
  {
   "cell_type": "code",
   "execution_count": 7,
   "metadata": {
    "collapsed": false
   },
   "outputs": [
    {
     "data": {
      "text/plain": [
       "1     15033\n",
       "2      1808\n",
       "3       103\n",
       "4         2\n",
       "11        1\n",
       "Name: sender, dtype: int64"
      ]
     },
     "execution_count": 7,
     "metadata": {},
     "output_type": "execute_result"
    }
   ],
   "source": [
    "\n",
    "# v tabuľke na ľavej strane sú skupiny vyjadrujúce množstvo jedinečných odosielateľov pre klientov \n",
    "\n",
    "# v pravej časti je celkový počet klientov, ktorí majú dané množstvo unikátnych odosielateľov prislúchajúce na ľavej strane\n",
    "\n",
    "# napr. 3. riadok z výstupu vyjadruje celkové množstvo klientov, ktorí majú troch unikátnych odosielateľov\n",
    "\n",
    "client_senders.value_counts()"
   ]
  },
  {
   "cell_type": "markdown",
   "metadata": {},
   "source": [
    "## 4. Krok \n",
    "\n",
    "* Vytvorenie dvoch nových podmnožín zo **stable_income** na základe id klientov z premenných **one_sender** a **multi_sender** <br/> <br/>\n",
    "\n",
    "* Dostanem podmnožinu **income_one_sender**, ktorá obsahuje klientov len s jedným odosielateľom platiacim každý mesiac klientovi čiastku prevyšujúcu 8500 korún. <br/> <br/>\n",
    "\n",
    "* Druhá podmnožina **income_multi_sender** bude obsahovať klientov s viacerými odosielateľmi, ktorí posielajú klientovi každý mesiac peniaze v hodnote prevyšujúcej minimálnu mzdu \n"
   ]
  },
  {
   "cell_type": "code",
   "execution_count": 8,
   "metadata": {
    "collapsed": false
   },
   "outputs": [],
   "source": [
    "\n",
    "# prvá podmnožina obsahuje klientov len z jedným odosielateľom platiacim každý mesiac\n",
    "\n",
    "income_one_sender = stable_income[ stable_income['client'].isin(one_sender) ]\n",
    "\n",
    "# druhá podmnožina obsahuje klientov, ktorí dostávajú platby od viacerých odosielateľov každý mesiac\n",
    "\n",
    "income_multi_sender = stable_income[ stable_income['client'].isin(multi_sender) ]\n"
   ]
  },
  {
   "cell_type": "markdown",
   "metadata": {},
   "source": [
    "### Pohľad na klientov s jedným alebo s viacerými odosielateľmi, ktorí posielajú klientom každý mesiac čiastku vyššiu ako min. mzda"
   ]
  },
  {
   "cell_type": "code",
   "execution_count": 9,
   "metadata": {
    "collapsed": false
   },
   "outputs": [
    {
     "data": {
      "text/html": [
       "<div>\n",
       "<table border=\"1\" class=\"dataframe\">\n",
       "  <thead>\n",
       "    <tr style=\"text-align: right;\">\n",
       "      <th></th>\n",
       "      <th>date</th>\n",
       "      <th>client</th>\n",
       "      <th>amount</th>\n",
       "      <th>sender</th>\n",
       "      <th>join_id</th>\n",
       "    </tr>\n",
       "  </thead>\n",
       "  <tbody>\n",
       "    <tr>\n",
       "      <th>105145</th>\n",
       "      <td>2014-04</td>\n",
       "      <td>56847</td>\n",
       "      <td>11432</td>\n",
       "      <td>222382928</td>\n",
       "      <td>56847222382928</td>\n",
       "    </tr>\n",
       "    <tr>\n",
       "      <th>102734</th>\n",
       "      <td>2014-05</td>\n",
       "      <td>56847</td>\n",
       "      <td>11437</td>\n",
       "      <td>222382928</td>\n",
       "      <td>56847222382928</td>\n",
       "    </tr>\n",
       "    <tr>\n",
       "      <th>99788</th>\n",
       "      <td>2014-06</td>\n",
       "      <td>56847</td>\n",
       "      <td>11434</td>\n",
       "      <td>222382928</td>\n",
       "      <td>56847222382928</td>\n",
       "    </tr>\n",
       "    <tr>\n",
       "      <th>96986</th>\n",
       "      <td>2014-07</td>\n",
       "      <td>56847</td>\n",
       "      <td>11434</td>\n",
       "      <td>222382928</td>\n",
       "      <td>56847222382928</td>\n",
       "    </tr>\n",
       "    <tr>\n",
       "      <th>94791</th>\n",
       "      <td>2014-08</td>\n",
       "      <td>56847</td>\n",
       "      <td>11339</td>\n",
       "      <td>222382928</td>\n",
       "      <td>56847222382928</td>\n",
       "    </tr>\n",
       "    <tr>\n",
       "      <th>91341</th>\n",
       "      <td>2014-09</td>\n",
       "      <td>56847</td>\n",
       "      <td>11371</td>\n",
       "      <td>222382928</td>\n",
       "      <td>56847222382928</td>\n",
       "    </tr>\n",
       "    <tr>\n",
       "      <th>69484</th>\n",
       "      <td>2014-04</td>\n",
       "      <td>61441</td>\n",
       "      <td>17032</td>\n",
       "      <td>547166056</td>\n",
       "      <td>61441547166056</td>\n",
       "    </tr>\n",
       "    <tr>\n",
       "      <th>68814</th>\n",
       "      <td>2014-05</td>\n",
       "      <td>61441</td>\n",
       "      <td>45773</td>\n",
       "      <td>547166056</td>\n",
       "      <td>61441547166056</td>\n",
       "    </tr>\n",
       "    <tr>\n",
       "      <th>65786</th>\n",
       "      <td>2014-06</td>\n",
       "      <td>61441</td>\n",
       "      <td>17821</td>\n",
       "      <td>547166056</td>\n",
       "      <td>61441547166056</td>\n",
       "    </tr>\n",
       "    <tr>\n",
       "      <th>62836</th>\n",
       "      <td>2014-07</td>\n",
       "      <td>61441</td>\n",
       "      <td>17445</td>\n",
       "      <td>547166056</td>\n",
       "      <td>61441547166056</td>\n",
       "    </tr>\n",
       "    <tr>\n",
       "      <th>57598</th>\n",
       "      <td>2014-08</td>\n",
       "      <td>61441</td>\n",
       "      <td>25562</td>\n",
       "      <td>547166056</td>\n",
       "      <td>61441547166056</td>\n",
       "    </tr>\n",
       "    <tr>\n",
       "      <th>56965</th>\n",
       "      <td>2014-09</td>\n",
       "      <td>61441</td>\n",
       "      <td>17459</td>\n",
       "      <td>547166056</td>\n",
       "      <td>61441547166056</td>\n",
       "    </tr>\n",
       "  </tbody>\n",
       "</table>\n",
       "</div>"
      ],
      "text/plain": [
       "           date  client  amount     sender         join_id\n",
       "105145  2014-04   56847   11432  222382928  56847222382928\n",
       "102734  2014-05   56847   11437  222382928  56847222382928\n",
       "99788   2014-06   56847   11434  222382928  56847222382928\n",
       "96986   2014-07   56847   11434  222382928  56847222382928\n",
       "94791   2014-08   56847   11339  222382928  56847222382928\n",
       "91341   2014-09   56847   11371  222382928  56847222382928\n",
       "69484   2014-04   61441   17032  547166056  61441547166056\n",
       "68814   2014-05   61441   45773  547166056  61441547166056\n",
       "65786   2014-06   61441   17821  547166056  61441547166056\n",
       "62836   2014-07   61441   17445  547166056  61441547166056\n",
       "57598   2014-08   61441   25562  547166056  61441547166056\n",
       "56965   2014-09   61441   17459  547166056  61441547166056"
      ]
     },
     "execution_count": 9,
     "metadata": {},
     "output_type": "execute_result"
    }
   ],
   "source": [
    "\n",
    "# prvá podmnožina je zoradená podľa id klientov a dátumov, obsahuje klienov s jedným odosielateľom\n",
    "\n",
    "income_one_sender.sort(['client', 'date']).head(12)\n"
   ]
  },
  {
   "cell_type": "code",
   "execution_count": 10,
   "metadata": {
    "collapsed": false
   },
   "outputs": [
    {
     "data": {
      "text/html": [
       "<div>\n",
       "<table border=\"1\" class=\"dataframe\">\n",
       "  <thead>\n",
       "    <tr style=\"text-align: right;\">\n",
       "      <th></th>\n",
       "      <th>date</th>\n",
       "      <th>client</th>\n",
       "      <th>amount</th>\n",
       "      <th>sender</th>\n",
       "      <th>join_id</th>\n",
       "    </tr>\n",
       "  </thead>\n",
       "  <tbody>\n",
       "    <tr>\n",
       "      <th>70642</th>\n",
       "      <td>2014-04</td>\n",
       "      <td>450431</td>\n",
       "      <td>12704</td>\n",
       "      <td>219047249</td>\n",
       "      <td>450431219047249</td>\n",
       "    </tr>\n",
       "    <tr>\n",
       "      <th>327953</th>\n",
       "      <td>2014-04</td>\n",
       "      <td>450431</td>\n",
       "      <td>14748</td>\n",
       "      <td>633236581</td>\n",
       "      <td>450431633236581</td>\n",
       "    </tr>\n",
       "    <tr>\n",
       "      <th>327954</th>\n",
       "      <td>2014-04</td>\n",
       "      <td>450431</td>\n",
       "      <td>16117</td>\n",
       "      <td>633236581</td>\n",
       "      <td>450431633236581</td>\n",
       "    </tr>\n",
       "    <tr>\n",
       "      <th>68106</th>\n",
       "      <td>2014-05</td>\n",
       "      <td>450431</td>\n",
       "      <td>12704</td>\n",
       "      <td>219047249</td>\n",
       "      <td>450431219047249</td>\n",
       "    </tr>\n",
       "    <tr>\n",
       "      <th>326953</th>\n",
       "      <td>2014-05</td>\n",
       "      <td>450431</td>\n",
       "      <td>15095</td>\n",
       "      <td>633236581</td>\n",
       "      <td>450431633236581</td>\n",
       "    </tr>\n",
       "    <tr>\n",
       "      <th>326954</th>\n",
       "      <td>2014-05</td>\n",
       "      <td>450431</td>\n",
       "      <td>16359</td>\n",
       "      <td>633236581</td>\n",
       "      <td>450431633236581</td>\n",
       "    </tr>\n",
       "    <tr>\n",
       "      <th>65081</th>\n",
       "      <td>2014-06</td>\n",
       "      <td>450431</td>\n",
       "      <td>12706</td>\n",
       "      <td>219047249</td>\n",
       "      <td>450431219047249</td>\n",
       "    </tr>\n",
       "    <tr>\n",
       "      <th>326077</th>\n",
       "      <td>2014-06</td>\n",
       "      <td>450431</td>\n",
       "      <td>12842</td>\n",
       "      <td>633236581</td>\n",
       "      <td>450431633236581</td>\n",
       "    </tr>\n",
       "    <tr>\n",
       "      <th>326078</th>\n",
       "      <td>2014-06</td>\n",
       "      <td>450431</td>\n",
       "      <td>16303</td>\n",
       "      <td>633236581</td>\n",
       "      <td>450431633236581</td>\n",
       "    </tr>\n",
       "    <tr>\n",
       "      <th>62153</th>\n",
       "      <td>2014-07</td>\n",
       "      <td>450431</td>\n",
       "      <td>12779</td>\n",
       "      <td>219047249</td>\n",
       "      <td>450431219047249</td>\n",
       "    </tr>\n",
       "    <tr>\n",
       "      <th>325128</th>\n",
       "      <td>2014-07</td>\n",
       "      <td>450431</td>\n",
       "      <td>12214</td>\n",
       "      <td>633236581</td>\n",
       "      <td>450431633236581</td>\n",
       "    </tr>\n",
       "    <tr>\n",
       "      <th>325129</th>\n",
       "      <td>2014-07</td>\n",
       "      <td>450431</td>\n",
       "      <td>16009</td>\n",
       "      <td>633236581</td>\n",
       "      <td>450431633236581</td>\n",
       "    </tr>\n",
       "  </tbody>\n",
       "</table>\n",
       "</div>"
      ],
      "text/plain": [
       "           date  client  amount     sender          join_id\n",
       "70642   2014-04  450431   12704  219047249  450431219047249\n",
       "327953  2014-04  450431   14748  633236581  450431633236581\n",
       "327954  2014-04  450431   16117  633236581  450431633236581\n",
       "68106   2014-05  450431   12704  219047249  450431219047249\n",
       "326953  2014-05  450431   15095  633236581  450431633236581\n",
       "326954  2014-05  450431   16359  633236581  450431633236581\n",
       "65081   2014-06  450431   12706  219047249  450431219047249\n",
       "326077  2014-06  450431   12842  633236581  450431633236581\n",
       "326078  2014-06  450431   16303  633236581  450431633236581\n",
       "62153   2014-07  450431   12779  219047249  450431219047249\n",
       "325128  2014-07  450431   12214  633236581  450431633236581\n",
       "325129  2014-07  450431   16009  633236581  450431633236581"
      ]
     },
     "execution_count": 10,
     "metadata": {},
     "output_type": "execute_result"
    }
   ],
   "source": [
    "\n",
    "# druhá podmnožina obsahuje klientov s viacerými odosielateľmi\n",
    "\n",
    "income_multi_sender.sort(['client', 'date']).head(12)\n"
   ]
  },
  {
   "cell_type": "markdown",
   "metadata": {},
   "source": [
    "## 5. Krok\n",
    "\n",
    "* Vytvorenie zvyšnej podmnožiny (**unstable_income**) kde sa nachádzajú klienti, ktorým chýba odosielateľ platiaci každý mesiac čiastku prevyšujúcu minimálnu mzdu. V danej podmnožine klienti môžu prijímať každý mesiac sumu vyššiu ako je minimálna mzda, ale musia ju prijímať minimálne od dvoch odosielateľov. <br/> <br/>\n",
    "\n",
    "* Podmnožinu **unstable_income** dostanem z **high_income** kde sa nachádzajú všetky platby vyššie ako minimálna mzda. Budem na to potrebovať spoločné indexy z podmnožín **income_one_sender** a **income_multi_sender**, ktoré odčítam od indexov z **high_income**. Dostanem klientov, ktorí nemajú pravidelné mesačné platby od jedného alebo viacerých odosielateľov <br/> <br/>\n"
   ]
  },
  {
   "cell_type": "code",
   "execution_count": 30,
   "metadata": {
    "collapsed": false
   },
   "outputs": [],
   "source": [
    "\n",
    "# spoločne indexy z income_ine_sender a income_multi_sender pridelené do premennej income_all\n",
    "\n",
    "income_all = pd.concat([income_one_sender, income_multi_sender], axis=0)\n",
    "\n",
    "# podmnožina unstable_income bude obsahovať indexy, ktoré sa nachádazjú v high_income, ale nenachádzajú sa v income_all\n",
    "# dostanem klientov s odosielateľmi, ktorí im neposialajú každý  mesiac čiastku prevyšujúcu min. mzdu\n",
    "\n",
    "unstable_income = high_income[~ high_income.index.isin(income_all.index)]\n"
   ]
  },
  {
   "cell_type": "markdown",
   "metadata": {},
   "source": [
    "### Pohľad na dáta v unstable_income podmnožine"
   ]
  },
  {
   "cell_type": "code",
   "execution_count": 12,
   "metadata": {
    "collapsed": false
   },
   "outputs": [
    {
     "data": {
      "text/html": [
       "<div>\n",
       "<table border=\"1\" class=\"dataframe\">\n",
       "  <thead>\n",
       "    <tr style=\"text-align: right;\">\n",
       "      <th></th>\n",
       "      <th>date</th>\n",
       "      <th>client</th>\n",
       "      <th>amount</th>\n",
       "      <th>sender</th>\n",
       "      <th>join_id</th>\n",
       "    </tr>\n",
       "  </thead>\n",
       "  <tbody>\n",
       "    <tr>\n",
       "      <th>285509</th>\n",
       "      <td>2014-04</td>\n",
       "      <td>61441</td>\n",
       "      <td>15346</td>\n",
       "      <td>45437871</td>\n",
       "      <td>6144145437871</td>\n",
       "    </tr>\n",
       "    <tr>\n",
       "      <th>243911</th>\n",
       "      <td>2014-05</td>\n",
       "      <td>61441</td>\n",
       "      <td>9703</td>\n",
       "      <td>762490320</td>\n",
       "      <td>61441762490320</td>\n",
       "    </tr>\n",
       "    <tr>\n",
       "      <th>243104</th>\n",
       "      <td>2014-06</td>\n",
       "      <td>61441</td>\n",
       "      <td>8875</td>\n",
       "      <td>762490320</td>\n",
       "      <td>61441762490320</td>\n",
       "    </tr>\n",
       "    <tr>\n",
       "      <th>240922</th>\n",
       "      <td>2014-08</td>\n",
       "      <td>61441</td>\n",
       "      <td>11008</td>\n",
       "      <td>762490320</td>\n",
       "      <td>61441762490320</td>\n",
       "    </tr>\n",
       "    <tr>\n",
       "      <th>397989</th>\n",
       "      <td>2014-04</td>\n",
       "      <td>72755</td>\n",
       "      <td>9981</td>\n",
       "      <td>566495527</td>\n",
       "      <td>72755566495527</td>\n",
       "    </tr>\n",
       "    <tr>\n",
       "      <th>54286</th>\n",
       "      <td>2014-04</td>\n",
       "      <td>78274</td>\n",
       "      <td>68655</td>\n",
       "      <td>482592832</td>\n",
       "      <td>78274482592832</td>\n",
       "    </tr>\n",
       "    <tr>\n",
       "      <th>104502</th>\n",
       "      <td>2014-04</td>\n",
       "      <td>87884</td>\n",
       "      <td>21397</td>\n",
       "      <td>222382928</td>\n",
       "      <td>87884222382928</td>\n",
       "    </tr>\n",
       "    <tr>\n",
       "      <th>48037</th>\n",
       "      <td>2014-06</td>\n",
       "      <td>106137</td>\n",
       "      <td>10301</td>\n",
       "      <td>627986531</td>\n",
       "      <td>106137627986531</td>\n",
       "    </tr>\n",
       "    <tr>\n",
       "      <th>45180</th>\n",
       "      <td>2014-07</td>\n",
       "      <td>106137</td>\n",
       "      <td>11864</td>\n",
       "      <td>627986531</td>\n",
       "      <td>106137627986531</td>\n",
       "    </tr>\n",
       "    <tr>\n",
       "      <th>40155</th>\n",
       "      <td>2014-08</td>\n",
       "      <td>106137</td>\n",
       "      <td>25278</td>\n",
       "      <td>345882789</td>\n",
       "      <td>106137345882789</td>\n",
       "    </tr>\n",
       "    <tr>\n",
       "      <th>40156</th>\n",
       "      <td>2014-08</td>\n",
       "      <td>106137</td>\n",
       "      <td>12263</td>\n",
       "      <td>627986531</td>\n",
       "      <td>106137627986531</td>\n",
       "    </tr>\n",
       "    <tr>\n",
       "      <th>39536</th>\n",
       "      <td>2014-09</td>\n",
       "      <td>106137</td>\n",
       "      <td>12161</td>\n",
       "      <td>627986531</td>\n",
       "      <td>106137627986531</td>\n",
       "    </tr>\n",
       "    <tr>\n",
       "      <th>248309</th>\n",
       "      <td>2014-05</td>\n",
       "      <td>155840</td>\n",
       "      <td>14066</td>\n",
       "      <td>745087094</td>\n",
       "      <td>155840745087094</td>\n",
       "    </tr>\n",
       "    <tr>\n",
       "      <th>180008</th>\n",
       "      <td>2014-09</td>\n",
       "      <td>184477</td>\n",
       "      <td>219466</td>\n",
       "      <td>329355591</td>\n",
       "      <td>184477329355591</td>\n",
       "    </tr>\n",
       "  </tbody>\n",
       "</table>\n",
       "</div>"
      ],
      "text/plain": [
       "           date  client  amount     sender          join_id\n",
       "285509  2014-04   61441   15346   45437871    6144145437871\n",
       "243911  2014-05   61441    9703  762490320   61441762490320\n",
       "243104  2014-06   61441    8875  762490320   61441762490320\n",
       "240922  2014-08   61441   11008  762490320   61441762490320\n",
       "397989  2014-04   72755    9981  566495527   72755566495527\n",
       "54286   2014-04   78274   68655  482592832   78274482592832\n",
       "104502  2014-04   87884   21397  222382928   87884222382928\n",
       "48037   2014-06  106137   10301  627986531  106137627986531\n",
       "45180   2014-07  106137   11864  627986531  106137627986531\n",
       "40155   2014-08  106137   25278  345882789  106137345882789\n",
       "40156   2014-08  106137   12263  627986531  106137627986531\n",
       "39536   2014-09  106137   12161  627986531  106137627986531\n",
       "248309  2014-05  155840   14066  745087094  155840745087094\n",
       "180008  2014-09  184477  219466  329355591  184477329355591"
      ]
     },
     "execution_count": 12,
     "metadata": {},
     "output_type": "execute_result"
    }
   ],
   "source": [
    "unstable_income.sort(['client', 'date']).head(14)"
   ]
  },
  {
   "cell_type": "markdown",
   "metadata": {},
   "source": [
    "## 6. Krok\n",
    "\n",
    "* Vytvorenie premennej **client_month_incomes** z **unstable_incomes**, ktorá bude obsahovať klientov a počet mesiacov, v ktorých klienti dostali platbu prevyšujúcu min. mzdu. Ak sa bude id klienta nachádzať vo všetkých šiestich mesiacoch, tak daný klient bude príjimať každý mesiac platbu vyššiu ako je minimálna mzda. Jeho odosielatelia budú minimálne dvaja a ich platby nebude klient dostávať každý mesiac. Napr. jeden odosielateľ bude klientovi posielať peniaze iba 4 mesiace a zvyšné 2 mesiace bude posielať druhý odosielateľ <br/> <br/>\n",
    "\n",
    "* Pohľad na počet klientov, ktorí su zaradení do skupín mesiacov, v ktorých dostali platbu prevyšujúcu min. mzdu. "
   ]
  },
  {
   "cell_type": "code",
   "execution_count": 13,
   "metadata": {
    "collapsed": false
   },
   "outputs": [
    {
     "data": {
      "text/plain": [
       "1    7765\n",
       "6    3016\n",
       "2    2575\n",
       "5    2049\n",
       "4    1696\n",
       "3    1549\n",
       "Name: date, dtype: int64"
      ]
     },
     "execution_count": 13,
     "metadata": {},
     "output_type": "execute_result"
    }
   ],
   "source": [
    "\n",
    "# premenná, ktorá obsahuje id klientov a ich výskyt v danom počte mesiacov kedy dostali platbu  \n",
    "\n",
    "client_month_incomes = unstable_income.groupby('client')['date'].nunique()\n",
    "\n",
    "# pohľad na počet klientov, ktorí dostali platby len v určitom počte mesiacov\n",
    "\n",
    "client_month_incomes.value_counts()\n"
   ]
  },
  {
   "cell_type": "markdown",
   "metadata": {
    "collapsed": true
   },
   "source": [
    "V tabuľke hore, napr. v 4. riadku je 2049 klientov, ktorí dostali platbu v piatich mesiacoch, ale v jednom mesiaci platbu nedostali"
   ]
  },
  {
   "cell_type": "markdown",
   "metadata": {},
   "source": [
    "## 7. Krok\n",
    "\n",
    "* Selekcia id klientov z **client_month_incomes**, ktorí dostali každý mesiac platbu prevyšujúcu min. mzdu do premennej **client_id** <br/> <br/>\n",
    "\n",
    "* ID klientov použijem na vytvorenie novej podmnožiny **six_month_clients** z *unstable_income*. To bude zároveň posledná podmnožina s klientami, ktorí dostali každý mesiac príjem vyšší ako minimálna mzda. Ostatní klienti nedostali každý mesiac čiastku, ktorá by prevyšovala hodnotu minimálnu mzdy. Vytvorím pre nich podmnožinu **other_incomes**"
   ]
  },
  {
   "cell_type": "code",
   "execution_count": 14,
   "metadata": {
    "collapsed": true
   },
   "outputs": [],
   "source": [
    "\n",
    "# id klientov, ktorí každý mesiac prijali platbu vyššiu ako min. mzda\n",
    "\n",
    "client_id = client_month_incomes[ client_month_incomes == 6].index\n",
    "\n",
    "# vytvorenie podmnoziny six_month_clients cez spoločných id klientov medzi unstable_income a client_id \n",
    "\n",
    "six_month_clients = unstable_income[unstable_income['client'].isin(client_id)]\n",
    "\n",
    "# zvyšná skupina klientov, ktorí nedostali platby vyššie ako min. mzda každy mesiac \n",
    "\n",
    "other_incomes = unstable_income[~ unstable_income['client'].isin(client_id)]\n"
   ]
  },
  {
   "cell_type": "markdown",
   "metadata": {},
   "source": [
    "### Pohľad na podmnožinu six_month_clients"
   ]
  },
  {
   "cell_type": "code",
   "execution_count": 15,
   "metadata": {
    "collapsed": false
   },
   "outputs": [
    {
     "data": {
      "text/html": [
       "<div>\n",
       "<table border=\"1\" class=\"dataframe\">\n",
       "  <thead>\n",
       "    <tr style=\"text-align: right;\">\n",
       "      <th></th>\n",
       "      <th>date</th>\n",
       "      <th>client</th>\n",
       "      <th>amount</th>\n",
       "      <th>sender</th>\n",
       "      <th>join_id</th>\n",
       "    </tr>\n",
       "  </thead>\n",
       "  <tbody>\n",
       "    <tr>\n",
       "      <th>168804</th>\n",
       "      <td>2014-04</td>\n",
       "      <td>1177887</td>\n",
       "      <td>14853</td>\n",
       "      <td>784440758</td>\n",
       "      <td>1177887784440758</td>\n",
       "    </tr>\n",
       "    <tr>\n",
       "      <th>167892</th>\n",
       "      <td>2014-05</td>\n",
       "      <td>1177887</td>\n",
       "      <td>13774</td>\n",
       "      <td>136454232</td>\n",
       "      <td>1177887136454232</td>\n",
       "    </tr>\n",
       "    <tr>\n",
       "      <th>167115</th>\n",
       "      <td>2014-06</td>\n",
       "      <td>1177887</td>\n",
       "      <td>14985</td>\n",
       "      <td>136454232</td>\n",
       "      <td>1177887136454232</td>\n",
       "    </tr>\n",
       "    <tr>\n",
       "      <th>166230</th>\n",
       "      <td>2014-07</td>\n",
       "      <td>1177887</td>\n",
       "      <td>10649</td>\n",
       "      <td>136454232</td>\n",
       "      <td>1177887136454232</td>\n",
       "    </tr>\n",
       "    <tr>\n",
       "      <th>165594</th>\n",
       "      <td>2014-08</td>\n",
       "      <td>1177887</td>\n",
       "      <td>13903</td>\n",
       "      <td>136454232</td>\n",
       "      <td>1177887136454232</td>\n",
       "    </tr>\n",
       "    <tr>\n",
       "      <th>164540</th>\n",
       "      <td>2014-09</td>\n",
       "      <td>1177887</td>\n",
       "      <td>14394</td>\n",
       "      <td>136454232</td>\n",
       "      <td>1177887136454232</td>\n",
       "    </tr>\n",
       "    <tr>\n",
       "      <th>421948</th>\n",
       "      <td>2014-04</td>\n",
       "      <td>2088495</td>\n",
       "      <td>12377</td>\n",
       "      <td>773266812</td>\n",
       "      <td>2088495773266812</td>\n",
       "    </tr>\n",
       "    <tr>\n",
       "      <th>421605</th>\n",
       "      <td>2014-05</td>\n",
       "      <td>2088495</td>\n",
       "      <td>11401</td>\n",
       "      <td>773266812</td>\n",
       "      <td>2088495773266812</td>\n",
       "    </tr>\n",
       "    <tr>\n",
       "      <th>218683</th>\n",
       "      <td>2014-06</td>\n",
       "      <td>2088495</td>\n",
       "      <td>13985</td>\n",
       "      <td>536955217</td>\n",
       "      <td>2088495536955217</td>\n",
       "    </tr>\n",
       "    <tr>\n",
       "      <th>217753</th>\n",
       "      <td>2014-07</td>\n",
       "      <td>2088495</td>\n",
       "      <td>24421</td>\n",
       "      <td>536955217</td>\n",
       "      <td>2088495536955217</td>\n",
       "    </tr>\n",
       "    <tr>\n",
       "      <th>216207</th>\n",
       "      <td>2014-08</td>\n",
       "      <td>2088495</td>\n",
       "      <td>24556</td>\n",
       "      <td>536955217</td>\n",
       "      <td>2088495536955217</td>\n",
       "    </tr>\n",
       "    <tr>\n",
       "      <th>215966</th>\n",
       "      <td>2014-09</td>\n",
       "      <td>2088495</td>\n",
       "      <td>26815</td>\n",
       "      <td>536955217</td>\n",
       "      <td>2088495536955217</td>\n",
       "    </tr>\n",
       "  </tbody>\n",
       "</table>\n",
       "</div>"
      ],
      "text/plain": [
       "           date   client  amount     sender           join_id\n",
       "168804  2014-04  1177887   14853  784440758  1177887784440758\n",
       "167892  2014-05  1177887   13774  136454232  1177887136454232\n",
       "167115  2014-06  1177887   14985  136454232  1177887136454232\n",
       "166230  2014-07  1177887   10649  136454232  1177887136454232\n",
       "165594  2014-08  1177887   13903  136454232  1177887136454232\n",
       "164540  2014-09  1177887   14394  136454232  1177887136454232\n",
       "421948  2014-04  2088495   12377  773266812  2088495773266812\n",
       "421605  2014-05  2088495   11401  773266812  2088495773266812\n",
       "218683  2014-06  2088495   13985  536955217  2088495536955217\n",
       "217753  2014-07  2088495   24421  536955217  2088495536955217\n",
       "216207  2014-08  2088495   24556  536955217  2088495536955217\n",
       "215966  2014-09  2088495   26815  536955217  2088495536955217"
      ]
     },
     "execution_count": 15,
     "metadata": {},
     "output_type": "execute_result"
    }
   ],
   "source": [
    "six_month_clients.sort(['client', 'date']).head(12)"
   ]
  },
  {
   "cell_type": "markdown",
   "metadata": {},
   "source": [
    "## Zahrnutie klientov do segmentov <br/>\n",
    "\n",
    "* a) Prvý segment obsahuje klientov, ktorí prijali každý mesiac platby prevyšujúce min. mzdu len od jedného odosielateľa. Tvorí ho **income_one_sender** <br/> <br/>\n",
    "\n",
    "* b) Druhý segment obsahuje klientov s viacerými odosielateľmi, ktorí im posielali platby každý  mesiac. Ak klient prijímal peniaze od dvoch odosielateľov, tak obidvaja odosielatelia posielali klientovi každý mesiac na účet čiastku prevyšujúcu min. mzdu. Tento segment tvorí **income_multi_sender**<br/> <br/>\n",
    "\n",
    "* c) Tretí segment obsahuje klientov, ktorí síce dostali každý mesiac príjem vyšši ako min. mzda, ale ich odosielatelia im neposielali peniaze každý mesiac. Klienti v tomto segment prijímali platby najmenej od dvoch odosielateľov. Tretí segment tvorí **six_month_clients**  <br/> <br/>\n",
    "\n",
    "* d) Posledný segment obsahuje klientov, ktorým chýbal minimálne jeden príjem za určitý mesiac prevyšujúci min. mzdu. V ostatných mesiacoch mohli prijať čiastky prevyšujúce min. mzdu. Prehľad aké množstvo klientov prijalo platby v danom počte mesiacov je znázornení v tabuľka v 6. kroku. Posledný segment tvorí **other_incomes** <br/> <br/>\n",
    "\n",
    "* Klientov z posledných dvoch segmentov využijem aj na zaradenie do nižších platových segmentov "
   ]
  },
  {
   "cell_type": "markdown",
   "metadata": {},
   "source": [
    "## Ďalší segment - dôchodky, soc. dávky, brigády, part-time a nízke príjmy\n",
    "\n",
    "V ďalších segmentoch sa budú nachádzať klienti s nižšími pravidelnými príjmami ako je min. mzda. Klienti nebudú patriť do prvých dvoch segmentov **a)** a **d)** spomenutých vyššie, ale môzu patriť do segmentov **c)** a **d)**. Platby v nových segmentoch môžu byť dôchodky, sociálne dávky, platby z brigád a podobne. Pri selekcii platieb stanovím minimálnu hranicu 3100 korún, čo predstavovalo v roku 2014 neoficiálne minimálny dôchodok v ČR. V ďalšom kroku nájdem id klientov, ktorí prijímali každý mesiac platby vyššie ako min. dôchodok a zároveň nižšie ako min. mzda. Postupujem podobne ako v 2. kroku. Platby označujem ako dôchodky len pre zjednodušenie."
   ]
  },
  {
   "cell_type": "code",
   "execution_count": 31,
   "metadata": {
    "collapsed": false
   },
   "outputs": [],
   "source": [
    "\n",
    "# prvé dva segmenty spomenuté vyššie boli spojené do premennej income_all v 5. kroku. Z tejto premennej použijem \n",
    "# id klientov na selekciu nových klientov, ktorí nepatria do income_all, ale nachádzajú sa v pôvodných dátach\n",
    "\n",
    "client_selection = data[~ data['client'].isin(income_all.client)]\n",
    "\n",
    "# premenná pension obsahuje platby vyššie ako min. dôchodok, ale nižšie ako min. mzda\n",
    "\n",
    "min_penzia = 3100\n",
    "pension = client_selection[ (client_selection['amount'] > min_penzia) & (client_selection['amount'] <= min_mzda) ] \n",
    "\n",
    "# formátujem dátumi na rok-mesiac \n",
    "\n",
    "date = pd.to_datetime( pension['date'] )\n",
    "pension['date'] = date.dt.strftime('%Y-%m')\n",
    "\n",
    "# premmené, ktoré vložím do for loop cyklu\n",
    "\n",
    "months = set(pension['date'])\n",
    "id = set(pension['client'])\n",
    "\n",
    "# for loop cyklus na selekciu id klientov, ktorí prijímali \"penziu\" každý  mesiac\n",
    "\n",
    "for m in months:\n",
    "    month = pension[ pension['date'] == m ]\n",
    "    id = id.intersection(month['client']) \n",
    "\n",
    "# vytvorenie segmentu s klientami, ktorí každý mesiac dostali \"penziu\" od 1 a viac odsielateľov\n",
    "\n",
    "stable_pension_income = pension[ pension['client'].isin(id) ]\n"
   ]
  },
  {
   "cell_type": "markdown",
   "metadata": {},
   "source": [
    "### Pohľad na dáta klientov s pravidelnými mesačnými \"penziami\" "
   ]
  },
  {
   "cell_type": "code",
   "execution_count": 17,
   "metadata": {
    "collapsed": false
   },
   "outputs": [
    {
     "data": {
      "text/html": [
       "<div>\n",
       "<table border=\"1\" class=\"dataframe\">\n",
       "  <thead>\n",
       "    <tr style=\"text-align: right;\">\n",
       "      <th></th>\n",
       "      <th>date</th>\n",
       "      <th>client</th>\n",
       "      <th>amount</th>\n",
       "      <th>sender</th>\n",
       "    </tr>\n",
       "  </thead>\n",
       "  <tbody>\n",
       "    <tr>\n",
       "      <th>52493</th>\n",
       "      <td>2014-04</td>\n",
       "      <td>3306</td>\n",
       "      <td>5404</td>\n",
       "      <td>222382928</td>\n",
       "    </tr>\n",
       "    <tr>\n",
       "      <th>48841</th>\n",
       "      <td>2014-05</td>\n",
       "      <td>3306</td>\n",
       "      <td>5404</td>\n",
       "      <td>222382928</td>\n",
       "    </tr>\n",
       "    <tr>\n",
       "      <th>321072</th>\n",
       "      <td>2014-05</td>\n",
       "      <td>3306</td>\n",
       "      <td>4216</td>\n",
       "      <td>550277640</td>\n",
       "    </tr>\n",
       "    <tr>\n",
       "      <th>45872</th>\n",
       "      <td>2014-06</td>\n",
       "      <td>3306</td>\n",
       "      <td>5348</td>\n",
       "      <td>222382928</td>\n",
       "    </tr>\n",
       "    <tr>\n",
       "      <th>320127</th>\n",
       "      <td>2014-06</td>\n",
       "      <td>3306</td>\n",
       "      <td>5503</td>\n",
       "      <td>550277640</td>\n",
       "    </tr>\n",
       "    <tr>\n",
       "      <th>43008</th>\n",
       "      <td>2014-07</td>\n",
       "      <td>3306</td>\n",
       "      <td>5404</td>\n",
       "      <td>222382928</td>\n",
       "    </tr>\n",
       "    <tr>\n",
       "      <th>319208</th>\n",
       "      <td>2014-07</td>\n",
       "      <td>3306</td>\n",
       "      <td>5591</td>\n",
       "      <td>550277640</td>\n",
       "    </tr>\n",
       "    <tr>\n",
       "      <th>40843</th>\n",
       "      <td>2014-08</td>\n",
       "      <td>3306</td>\n",
       "      <td>5403</td>\n",
       "      <td>222382928</td>\n",
       "    </tr>\n",
       "    <tr>\n",
       "      <th>318568</th>\n",
       "      <td>2014-08</td>\n",
       "      <td>3306</td>\n",
       "      <td>6957</td>\n",
       "      <td>550277640</td>\n",
       "    </tr>\n",
       "    <tr>\n",
       "      <th>37508</th>\n",
       "      <td>2014-09</td>\n",
       "      <td>3306</td>\n",
       "      <td>5400</td>\n",
       "      <td>222382928</td>\n",
       "    </tr>\n",
       "    <tr>\n",
       "      <th>317449</th>\n",
       "      <td>2014-09</td>\n",
       "      <td>3306</td>\n",
       "      <td>5588</td>\n",
       "      <td>550277640</td>\n",
       "    </tr>\n",
       "    <tr>\n",
       "      <th>106681</th>\n",
       "      <td>2014-04</td>\n",
       "      <td>87884</td>\n",
       "      <td>5179</td>\n",
       "      <td>222382928</td>\n",
       "    </tr>\n",
       "    <tr>\n",
       "      <th>103385</th>\n",
       "      <td>2014-05</td>\n",
       "      <td>87884</td>\n",
       "      <td>5178</td>\n",
       "      <td>222382928</td>\n",
       "    </tr>\n",
       "    <tr>\n",
       "      <th>100425</th>\n",
       "      <td>2014-06</td>\n",
       "      <td>87884</td>\n",
       "      <td>5170</td>\n",
       "      <td>222382928</td>\n",
       "    </tr>\n",
       "    <tr>\n",
       "      <th>97615</th>\n",
       "      <td>2014-07</td>\n",
       "      <td>87884</td>\n",
       "      <td>5170</td>\n",
       "      <td>222382928</td>\n",
       "    </tr>\n",
       "    <tr>\n",
       "      <th>95377</th>\n",
       "      <td>2014-08</td>\n",
       "      <td>87884</td>\n",
       "      <td>5174</td>\n",
       "      <td>222382928</td>\n",
       "    </tr>\n",
       "    <tr>\n",
       "      <th>91942</th>\n",
       "      <td>2014-09</td>\n",
       "      <td>87884</td>\n",
       "      <td>5173</td>\n",
       "      <td>222382928</td>\n",
       "    </tr>\n",
       "    <tr>\n",
       "      <th>353968</th>\n",
       "      <td>2014-04</td>\n",
       "      <td>268247</td>\n",
       "      <td>5557</td>\n",
       "      <td>136793160</td>\n",
       "    </tr>\n",
       "  </tbody>\n",
       "</table>\n",
       "</div>"
      ],
      "text/plain": [
       "           date  client  amount     sender\n",
       "52493   2014-04    3306    5404  222382928\n",
       "48841   2014-05    3306    5404  222382928\n",
       "321072  2014-05    3306    4216  550277640\n",
       "45872   2014-06    3306    5348  222382928\n",
       "320127  2014-06    3306    5503  550277640\n",
       "43008   2014-07    3306    5404  222382928\n",
       "319208  2014-07    3306    5591  550277640\n",
       "40843   2014-08    3306    5403  222382928\n",
       "318568  2014-08    3306    6957  550277640\n",
       "37508   2014-09    3306    5400  222382928\n",
       "317449  2014-09    3306    5588  550277640\n",
       "106681  2014-04   87884    5179  222382928\n",
       "103385  2014-05   87884    5178  222382928\n",
       "100425  2014-06   87884    5170  222382928\n",
       "97615   2014-07   87884    5170  222382928\n",
       "95377   2014-08   87884    5174  222382928\n",
       "91942   2014-09   87884    5173  222382928\n",
       "353968  2014-04  268247    5557  136793160"
      ]
     },
     "execution_count": 17,
     "metadata": {},
     "output_type": "execute_result"
    }
   ],
   "source": [
    "stable_pension_income.sort(['client', 'date']).head(18)"
   ]
  },
  {
   "cell_type": "markdown",
   "metadata": {},
   "source": [
    "Ostatných klientov, ktorí neprijímali \"penziu\" pravidelne každý mesiac prenesiem do segmentu z označením **unstable_pension**. Budú to klienti, ktorí sa nenechádzajú v **stable_pension_income**, ale sú  prítomní v **pension** "
   ]
  },
  {
   "cell_type": "code",
   "execution_count": 18,
   "metadata": {
    "collapsed": false
   },
   "outputs": [],
   "source": [
    "unstable_pension = pension[~ pension['client'].isin(stable_pension_income['client'])]"
   ]
  },
  {
   "cell_type": "markdown",
   "metadata": {
    "collapsed": false
   },
   "source": [
    "### Pohľad na klientov s nepravidelnými mesačnými platbami vo výške 3100-8500 korún\n"
   ]
  },
  {
   "cell_type": "code",
   "execution_count": 19,
   "metadata": {
    "collapsed": false
   },
   "outputs": [
    {
     "data": {
      "text/html": [
       "<div>\n",
       "<table border=\"1\" class=\"dataframe\">\n",
       "  <thead>\n",
       "    <tr style=\"text-align: right;\">\n",
       "      <th></th>\n",
       "      <th>date</th>\n",
       "      <th>client</th>\n",
       "      <th>amount</th>\n",
       "      <th>sender</th>\n",
       "    </tr>\n",
       "  </thead>\n",
       "  <tbody>\n",
       "    <tr>\n",
       "      <th>53350</th>\n",
       "      <td>2014-04</td>\n",
       "      <td>106137</td>\n",
       "      <td>6326</td>\n",
       "      <td>345882789</td>\n",
       "    </tr>\n",
       "    <tr>\n",
       "      <th>51034</th>\n",
       "      <td>2014-05</td>\n",
       "      <td>106137</td>\n",
       "      <td>6226</td>\n",
       "      <td>345882789</td>\n",
       "    </tr>\n",
       "    <tr>\n",
       "      <th>48036</th>\n",
       "      <td>2014-06</td>\n",
       "      <td>106137</td>\n",
       "      <td>6321</td>\n",
       "      <td>345882789</td>\n",
       "    </tr>\n",
       "    <tr>\n",
       "      <th>87643</th>\n",
       "      <td>2014-04</td>\n",
       "      <td>503312</td>\n",
       "      <td>4164</td>\n",
       "      <td>31873657</td>\n",
       "    </tr>\n",
       "    <tr>\n",
       "      <th>85758</th>\n",
       "      <td>2014-05</td>\n",
       "      <td>516929</td>\n",
       "      <td>4181</td>\n",
       "      <td>439913156</td>\n",
       "    </tr>\n",
       "    <tr>\n",
       "      <th>408544</th>\n",
       "      <td>2014-09</td>\n",
       "      <td>516929</td>\n",
       "      <td>4460</td>\n",
       "      <td>813580157</td>\n",
       "    </tr>\n",
       "    <tr>\n",
       "      <th>405448</th>\n",
       "      <td>2014-07</td>\n",
       "      <td>842767</td>\n",
       "      <td>5193</td>\n",
       "      <td>635276731</td>\n",
       "    </tr>\n",
       "    <tr>\n",
       "      <th>118480</th>\n",
       "      <td>2014-06</td>\n",
       "      <td>958936</td>\n",
       "      <td>5160</td>\n",
       "      <td>963808981</td>\n",
       "    </tr>\n",
       "  </tbody>\n",
       "</table>\n",
       "</div>"
      ],
      "text/plain": [
       "           date  client  amount     sender\n",
       "53350   2014-04  106137    6326  345882789\n",
       "51034   2014-05  106137    6226  345882789\n",
       "48036   2014-06  106137    6321  345882789\n",
       "87643   2014-04  503312    4164   31873657\n",
       "85758   2014-05  516929    4181  439913156\n",
       "408544  2014-09  516929    4460  813580157\n",
       "405448  2014-07  842767    5193  635276731\n",
       "118480  2014-06  958936    5160  963808981"
      ]
     },
     "execution_count": 19,
     "metadata": {},
     "output_type": "execute_result"
    }
   ],
   "source": [
    "unstable_pension.sort(['client', 'date']).head(8)"
   ]
  },
  {
   "cell_type": "markdown",
   "metadata": {},
   "source": [
    "V poslednom segmente sú klienti, ktorých platby nepresahujú výšku minimálneho dôchodku. Vyselektujem ich z **high_incomes** a **pension** kde sa nachádzajú klienti, ktorí dostali aspoň jednu platbu vyššiu ako min. dôchodok. Posledný segment označím ako **other_low_incomes**"
   ]
  },
  {
   "cell_type": "code",
   "execution_count": 26,
   "metadata": {
    "collapsed": false
   },
   "outputs": [],
   "source": [
    "\n",
    "# spojenie id klientov z high_income (z 1. kroku) a z pension\n",
    "\n",
    "higher_incomes = pd.concat([high_income.client, pension.client], axis=0)\n",
    "\n",
    "# posledný segment s klientami, ktorí nedostali ani jednu platbu vyššiu ako min. dôchodok\n",
    "\n",
    "other_low_incomes = data[~ data['client'].isin(higher_incomes)]\n"
   ]
  },
  {
   "cell_type": "markdown",
   "metadata": {},
   "source": [
    "### Pohľad na posledný segment"
   ]
  },
  {
   "cell_type": "code",
   "execution_count": 27,
   "metadata": {
    "collapsed": false
   },
   "outputs": [
    {
     "data": {
      "text/html": [
       "<div>\n",
       "<table border=\"1\" class=\"dataframe\">\n",
       "  <thead>\n",
       "    <tr style=\"text-align: right;\">\n",
       "      <th></th>\n",
       "      <th>date</th>\n",
       "      <th>client</th>\n",
       "      <th>amount</th>\n",
       "      <th>sender</th>\n",
       "    </tr>\n",
       "  </thead>\n",
       "  <tbody>\n",
       "    <tr>\n",
       "      <th>66340</th>\n",
       "      <td>2014-06-11</td>\n",
       "      <td>120424</td>\n",
       "      <td>195</td>\n",
       "      <td>544975132</td>\n",
       "    </tr>\n",
       "    <tr>\n",
       "      <th>63308</th>\n",
       "      <td>2014-07-11</td>\n",
       "      <td>120424</td>\n",
       "      <td>194</td>\n",
       "      <td>544975132</td>\n",
       "    </tr>\n",
       "    <tr>\n",
       "      <th>58071</th>\n",
       "      <td>2014-08-11</td>\n",
       "      <td>120424</td>\n",
       "      <td>201</td>\n",
       "      <td>544975132</td>\n",
       "    </tr>\n",
       "    <tr>\n",
       "      <th>57436</th>\n",
       "      <td>2014-09-11</td>\n",
       "      <td>120424</td>\n",
       "      <td>200</td>\n",
       "      <td>544975132</td>\n",
       "    </tr>\n",
       "    <tr>\n",
       "      <th>357754</th>\n",
       "      <td>2014-06-12</td>\n",
       "      <td>295940</td>\n",
       "      <td>281</td>\n",
       "      <td>233423418</td>\n",
       "    </tr>\n",
       "    <tr>\n",
       "      <th>229886</th>\n",
       "      <td>2014-04-13</td>\n",
       "      <td>484522</td>\n",
       "      <td>414</td>\n",
       "      <td>849713090</td>\n",
       "    </tr>\n",
       "    <tr>\n",
       "      <th>229491</th>\n",
       "      <td>2014-05-11</td>\n",
       "      <td>484522</td>\n",
       "      <td>428</td>\n",
       "      <td>849713090</td>\n",
       "    </tr>\n",
       "    <tr>\n",
       "      <th>228780</th>\n",
       "      <td>2014-06-17</td>\n",
       "      <td>484522</td>\n",
       "      <td>431</td>\n",
       "      <td>849713090</td>\n",
       "    </tr>\n",
       "    <tr>\n",
       "      <th>228010</th>\n",
       "      <td>2014-07-10</td>\n",
       "      <td>484522</td>\n",
       "      <td>419</td>\n",
       "      <td>849713090</td>\n",
       "    </tr>\n",
       "    <tr>\n",
       "      <th>226733</th>\n",
       "      <td>2014-08-17</td>\n",
       "      <td>484522</td>\n",
       "      <td>420</td>\n",
       "      <td>849713090</td>\n",
       "    </tr>\n",
       "  </tbody>\n",
       "</table>\n",
       "</div>"
      ],
      "text/plain": [
       "              date  client  amount     sender\n",
       "66340   2014-06-11  120424     195  544975132\n",
       "63308   2014-07-11  120424     194  544975132\n",
       "58071   2014-08-11  120424     201  544975132\n",
       "57436   2014-09-11  120424     200  544975132\n",
       "357754  2014-06-12  295940     281  233423418\n",
       "229886  2014-04-13  484522     414  849713090\n",
       "229491  2014-05-11  484522     428  849713090\n",
       "228780  2014-06-17  484522     431  849713090\n",
       "228010  2014-07-10  484522     419  849713090\n",
       "226733  2014-08-17  484522     420  849713090"
      ]
     },
     "execution_count": 27,
     "metadata": {},
     "output_type": "execute_result"
    }
   ],
   "source": [
    "other_low_incomes.sort(['client', 'date']).head(10)\n"
   ]
  },
  {
   "cell_type": "markdown",
   "metadata": {},
   "source": [
    "## Zhrnutie segmentov <br/> \n",
    "\n",
    "* Podľa výšky platieb: | **0-3100** | **3100-8500** | **8500+** | <br/> <br/>\n",
    "\n",
    "\n",
    "\n",
    "Segmenty **a), b), c), d)** už boli vysvetlené vyššie a patria do kategórie **8500+** <br/> <br/>\n",
    "\n",
    "Ďalšie segmenty pre kategóriu **3100-8500** <br/> \n",
    "\n",
    "e) Segment **stable_pension_income** obsahuje klientov, ktorí každý mesiac dostali platbu (\"penziu\") vo výške 3100-8500  korún od jedného alebo viacerých odosielateľov. V tomto segmente môžu byť zahrnutý klienti zo segmentov **c)** a **d)**\n",
    "\n",
    "f) Segment **unstable_pension** obsahuje klientov, ktorí nedostali \"penziu\" každý mesiac <br/> <br/>\n",
    "\n",
    "\n",
    "Posledný  segment pre kategóriu **0-3100** <br/> \n",
    "\n",
    "g) Segment **other_low_incomes** obsahuje klientov, ktorí majú všetky platby nižšie ako min. dôchodok. \n",
    "\n"
   ]
  }
 ],
 "metadata": {
  "kernelspec": {
   "display_name": "Python 2",
   "language": "python2",
   "name": "python2"
  },
  "language_info": {
   "codemirror_mode": {
    "name": "ipython",
    "version": 2
   },
   "file_extension": ".py",
   "mimetype": "text/x-python",
   "name": "python",
   "nbconvert_exporter": "python",
   "pygments_lexer": "ipython2",
   "version": "2.7.10"
  }
 },
 "nbformat": 4,
 "nbformat_minor": 0
}
